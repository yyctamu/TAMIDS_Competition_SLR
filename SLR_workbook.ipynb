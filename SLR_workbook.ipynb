{
 "cells": [
  {
   "cell_type": "code",
   "execution_count": 1,
   "metadata": {},
   "outputs": [
    {
     "name": "stderr",
     "output_type": "stream",
     "text": [
      "/Library/Frameworks/Python.framework/Versions/3.10/lib/python3.10/site-packages/tqdm/auto.py:21: TqdmWarning: IProgress not found. Please update jupyter and ipywidgets. See https://ipywidgets.readthedocs.io/en/stable/user_install.html\n",
      "  from .autonotebook import tqdm as notebook_tqdm\n"
     ]
    }
   ],
   "source": [
    "import copernicusmarine as cm\n",
    "import numpy as np\n",
    "import netCDF4 as nc\n",
    "import xarray as xr"
   ]
  },
  {
   "cell_type": "code",
   "execution_count": null,
   "metadata": {},
   "outputs": [],
   "source": [
    "cm.subset(\n",
    "    dataset_id=\"c3s_obs-sl_glo_phy-ssh_my_twosat-l4-duacs-0.25deg_P1D\",\n",
    "    dataset_version=\"202112\",\n",
    "    variables=[\"adt\"],\n",
    "    minimum_longitude=-101.0,\n",
    "    maximum_longitude=-50.0,\n",
    "    minimum_latitude=14.0,\n",
    "    maximum_latitude=52.0,\n",
    "    start_datetime=\"1993-01-01T00:00:00\",\n",
    "    end_datetime=\"2023-06-07T00:00:00\",\n",
    "    output_filename=\"data_copernicus_adt_1993_2023.nc\"\n",
    ")\n",
    "\n",
    "#sl_glo_phy_obj = netCDF4.Dataset('./data_copernicus_adt_1993_2023.nc')"
   ]
  },
  {
   "cell_type": "code",
   "execution_count": 34,
   "metadata": {},
   "outputs": [],
   "source": [
    "sl_glo_phy_xr = xr.open_dataset('data_copernicus_adt_1993_2023.nc')\n",
    "sl_glo_phy_xr_df = sl_glo_phy_xr.to_dataframe()"
   ]
  },
  {
   "cell_type": "code",
   "execution_count": 3,
   "metadata": {},
   "outputs": [
    {
     "name": "stderr",
     "output_type": "stream",
     "text": [
      "/var/folders/3m/g7qw5r_50tj5yh0jj5dphfj00000gp/T/ipykernel_84959/3584571726.py:6: UserWarning: WARNING: valid_min not used since it\n",
      "cannot be safely cast to variable data type\n",
      "  time = nc_file.variables['time'][:]\n",
      "/var/folders/3m/g7qw5r_50tj5yh0jj5dphfj00000gp/T/ipykernel_84959/3584571726.py:6: UserWarning: WARNING: valid_max not used since it\n",
      "cannot be safely cast to variable data type\n",
      "  time = nc_file.variables['time'][:]\n"
     ]
    },
    {
     "ename": "ValueError",
     "evalue": "All arrays must be of the same length",
     "output_type": "error",
     "traceback": [
      "\u001b[0;31m---------------------------------------------------------------------------\u001b[0m",
      "\u001b[0;31mValueError\u001b[0m                                Traceback (most recent call last)",
      "Input \u001b[0;32mIn [3]\u001b[0m, in \u001b[0;36m<cell line: 12>\u001b[0;34m()\u001b[0m\n\u001b[1;32m      9\u001b[0m adt \u001b[38;5;241m=\u001b[39m nc_file\u001b[38;5;241m.\u001b[39mvariables[\u001b[38;5;124m'\u001b[39m\u001b[38;5;124madt\u001b[39m\u001b[38;5;124m'\u001b[39m][:]\u001b[38;5;241m.\u001b[39mflatten()\n\u001b[1;32m     11\u001b[0m data \u001b[38;5;241m=\u001b[39m {\u001b[38;5;124m'\u001b[39m\u001b[38;5;124mtime\u001b[39m\u001b[38;5;124m'\u001b[39m: time, \u001b[38;5;124m'\u001b[39m\u001b[38;5;124mlongitude\u001b[39m\u001b[38;5;124m'\u001b[39m: longitude, \u001b[38;5;124m'\u001b[39m\u001b[38;5;124mlatitude\u001b[39m\u001b[38;5;124m'\u001b[39m: latitude, \u001b[38;5;124m'\u001b[39m\u001b[38;5;124madt\u001b[39m\u001b[38;5;124m'\u001b[39m: adt}\n\u001b[0;32m---> 12\u001b[0m df \u001b[38;5;241m=\u001b[39m \u001b[43mpd\u001b[49m\u001b[38;5;241;43m.\u001b[39;49m\u001b[43mDataFrame\u001b[49m\u001b[43m(\u001b[49m\u001b[43mdata\u001b[49m\u001b[43m)\u001b[49m\n\u001b[1;32m     14\u001b[0m \u001b[38;5;66;03m# Close the NetCDF file\u001b[39;00m\n\u001b[1;32m     15\u001b[0m nc_file\u001b[38;5;241m.\u001b[39mclose()\n",
      "File \u001b[0;32m/Library/Frameworks/Python.framework/Versions/3.10/lib/python3.10/site-packages/pandas/core/frame.py:767\u001b[0m, in \u001b[0;36mDataFrame.__init__\u001b[0;34m(self, data, index, columns, dtype, copy)\u001b[0m\n\u001b[1;32m    761\u001b[0m     mgr \u001b[38;5;241m=\u001b[39m \u001b[38;5;28mself\u001b[39m\u001b[38;5;241m.\u001b[39m_init_mgr(\n\u001b[1;32m    762\u001b[0m         data, axes\u001b[38;5;241m=\u001b[39m{\u001b[38;5;124m\"\u001b[39m\u001b[38;5;124mindex\u001b[39m\u001b[38;5;124m\"\u001b[39m: index, \u001b[38;5;124m\"\u001b[39m\u001b[38;5;124mcolumns\u001b[39m\u001b[38;5;124m\"\u001b[39m: columns}, dtype\u001b[38;5;241m=\u001b[39mdtype, copy\u001b[38;5;241m=\u001b[39mcopy\n\u001b[1;32m    763\u001b[0m     )\n\u001b[1;32m    765\u001b[0m \u001b[38;5;28;01melif\u001b[39;00m \u001b[38;5;28misinstance\u001b[39m(data, \u001b[38;5;28mdict\u001b[39m):\n\u001b[1;32m    766\u001b[0m     \u001b[38;5;66;03m# GH#38939 de facto copy defaults to False only in non-dict cases\u001b[39;00m\n\u001b[0;32m--> 767\u001b[0m     mgr \u001b[38;5;241m=\u001b[39m \u001b[43mdict_to_mgr\u001b[49m\u001b[43m(\u001b[49m\u001b[43mdata\u001b[49m\u001b[43m,\u001b[49m\u001b[43m \u001b[49m\u001b[43mindex\u001b[49m\u001b[43m,\u001b[49m\u001b[43m \u001b[49m\u001b[43mcolumns\u001b[49m\u001b[43m,\u001b[49m\u001b[43m \u001b[49m\u001b[43mdtype\u001b[49m\u001b[38;5;241;43m=\u001b[39;49m\u001b[43mdtype\u001b[49m\u001b[43m,\u001b[49m\u001b[43m \u001b[49m\u001b[43mcopy\u001b[49m\u001b[38;5;241;43m=\u001b[39;49m\u001b[43mcopy\u001b[49m\u001b[43m,\u001b[49m\u001b[43m \u001b[49m\u001b[43mtyp\u001b[49m\u001b[38;5;241;43m=\u001b[39;49m\u001b[43mmanager\u001b[49m\u001b[43m)\u001b[49m\n\u001b[1;32m    768\u001b[0m \u001b[38;5;28;01melif\u001b[39;00m \u001b[38;5;28misinstance\u001b[39m(data, ma\u001b[38;5;241m.\u001b[39mMaskedArray):\n\u001b[1;32m    769\u001b[0m     \u001b[38;5;28;01mfrom\u001b[39;00m \u001b[38;5;21;01mnumpy\u001b[39;00m\u001b[38;5;21;01m.\u001b[39;00m\u001b[38;5;21;01mma\u001b[39;00m \u001b[38;5;28;01mimport\u001b[39;00m mrecords\n",
      "File \u001b[0;32m/Library/Frameworks/Python.framework/Versions/3.10/lib/python3.10/site-packages/pandas/core/internals/construction.py:503\u001b[0m, in \u001b[0;36mdict_to_mgr\u001b[0;34m(data, index, columns, dtype, typ, copy)\u001b[0m\n\u001b[1;32m    499\u001b[0m     \u001b[38;5;28;01melse\u001b[39;00m:\n\u001b[1;32m    500\u001b[0m         \u001b[38;5;66;03m# dtype check to exclude e.g. range objects, scalars\u001b[39;00m\n\u001b[1;32m    501\u001b[0m         arrays \u001b[38;5;241m=\u001b[39m [x\u001b[38;5;241m.\u001b[39mcopy() \u001b[38;5;28;01mif\u001b[39;00m \u001b[38;5;28mhasattr\u001b[39m(x, \u001b[38;5;124m\"\u001b[39m\u001b[38;5;124mdtype\u001b[39m\u001b[38;5;124m\"\u001b[39m) \u001b[38;5;28;01melse\u001b[39;00m x \u001b[38;5;28;01mfor\u001b[39;00m x \u001b[38;5;129;01min\u001b[39;00m arrays]\n\u001b[0;32m--> 503\u001b[0m \u001b[38;5;28;01mreturn\u001b[39;00m \u001b[43marrays_to_mgr\u001b[49m\u001b[43m(\u001b[49m\u001b[43marrays\u001b[49m\u001b[43m,\u001b[49m\u001b[43m \u001b[49m\u001b[43mcolumns\u001b[49m\u001b[43m,\u001b[49m\u001b[43m \u001b[49m\u001b[43mindex\u001b[49m\u001b[43m,\u001b[49m\u001b[43m \u001b[49m\u001b[43mdtype\u001b[49m\u001b[38;5;241;43m=\u001b[39;49m\u001b[43mdtype\u001b[49m\u001b[43m,\u001b[49m\u001b[43m \u001b[49m\u001b[43mtyp\u001b[49m\u001b[38;5;241;43m=\u001b[39;49m\u001b[43mtyp\u001b[49m\u001b[43m,\u001b[49m\u001b[43m \u001b[49m\u001b[43mconsolidate\u001b[49m\u001b[38;5;241;43m=\u001b[39;49m\u001b[43mcopy\u001b[49m\u001b[43m)\u001b[49m\n",
      "File \u001b[0;32m/Library/Frameworks/Python.framework/Versions/3.10/lib/python3.10/site-packages/pandas/core/internals/construction.py:114\u001b[0m, in \u001b[0;36marrays_to_mgr\u001b[0;34m(arrays, columns, index, dtype, verify_integrity, typ, consolidate)\u001b[0m\n\u001b[1;32m    111\u001b[0m \u001b[38;5;28;01mif\u001b[39;00m verify_integrity:\n\u001b[1;32m    112\u001b[0m     \u001b[38;5;66;03m# figure out the index, if necessary\u001b[39;00m\n\u001b[1;32m    113\u001b[0m     \u001b[38;5;28;01mif\u001b[39;00m index \u001b[38;5;129;01mis\u001b[39;00m \u001b[38;5;28;01mNone\u001b[39;00m:\n\u001b[0;32m--> 114\u001b[0m         index \u001b[38;5;241m=\u001b[39m \u001b[43m_extract_index\u001b[49m\u001b[43m(\u001b[49m\u001b[43marrays\u001b[49m\u001b[43m)\u001b[49m\n\u001b[1;32m    115\u001b[0m     \u001b[38;5;28;01melse\u001b[39;00m:\n\u001b[1;32m    116\u001b[0m         index \u001b[38;5;241m=\u001b[39m ensure_index(index)\n",
      "File \u001b[0;32m/Library/Frameworks/Python.framework/Versions/3.10/lib/python3.10/site-packages/pandas/core/internals/construction.py:677\u001b[0m, in \u001b[0;36m_extract_index\u001b[0;34m(data)\u001b[0m\n\u001b[1;32m    675\u001b[0m lengths \u001b[38;5;241m=\u001b[39m \u001b[38;5;28mlist\u001b[39m(\u001b[38;5;28mset\u001b[39m(raw_lengths))\n\u001b[1;32m    676\u001b[0m \u001b[38;5;28;01mif\u001b[39;00m \u001b[38;5;28mlen\u001b[39m(lengths) \u001b[38;5;241m>\u001b[39m \u001b[38;5;241m1\u001b[39m:\n\u001b[0;32m--> 677\u001b[0m     \u001b[38;5;28;01mraise\u001b[39;00m \u001b[38;5;167;01mValueError\u001b[39;00m(\u001b[38;5;124m\"\u001b[39m\u001b[38;5;124mAll arrays must be of the same length\u001b[39m\u001b[38;5;124m\"\u001b[39m)\n\u001b[1;32m    679\u001b[0m \u001b[38;5;28;01mif\u001b[39;00m have_dicts:\n\u001b[1;32m    680\u001b[0m     \u001b[38;5;28;01mraise\u001b[39;00m \u001b[38;5;167;01mValueError\u001b[39;00m(\n\u001b[1;32m    681\u001b[0m         \u001b[38;5;124m\"\u001b[39m\u001b[38;5;124mMixing dicts with non-Series may lead to ambiguous ordering.\u001b[39m\u001b[38;5;124m\"\u001b[39m\n\u001b[1;32m    682\u001b[0m     )\n",
      "\u001b[0;31mValueError\u001b[0m: All arrays must be of the same length"
     ]
    }
   ],
   "source": [
    "# Open the NetCDF file\n",
    "import pandas as pd\n",
    "file_path = 'data_copernicus_adt_1993_2023.nc'\n",
    "nc_file = nc.Dataset(file_path)"
   ]
  },
  {
   "cell_type": "code",
   "execution_count": 4,
   "metadata": {},
   "outputs": [
    {
     "name": "stdout",
     "output_type": "stream",
     "text": [
      "<class 'netCDF4._netCDF4.Dataset'>\n",
      "root group (NETCDF4 data model, file format HDF5):\n",
      "    Conventions: CF-1.6\n",
      "    Metadata_Conventions: Unidata Dataset Discovery v1.0\n",
      "    cdm_data_type: Grid\n",
      "    comment: Sea Surface Height measured by Altimetry and derived variables\n",
      "    contact: http://climate.copernicus.eu/c3s-user-service-desk\n",
      "    creator_email: http://climate.copernicus.eu/c3s-user-service-desk\n",
      "    creator_name: Copernicus Climate Change Service (C3S)\n",
      "    creator_url: http://climate.copernicus.eu\n",
      "    date_created: 2021-07-09T08:53:57Z\n",
      "    date_issued: 2021-07-09T08:53:57Z\n",
      "    date_modified: 2021-07-09T08:53:57Z\n",
      "    geospatial_lat_max: 89.875\n",
      "    geospatial_lat_min: -89.875\n",
      "    geospatial_lat_resolution: 0.25\n",
      "    geospatial_lat_units: degrees_north\n",
      "    geospatial_lon_max: 179.875\n",
      "    geospatial_lon_min: -179.875\n",
      "    geospatial_lon_resolution: 0.25\n",
      "    geospatial_lon_units: degrees_east\n",
      "    geospatial_vertical_max: 0.0\n",
      "    geospatial_vertical_min: 0.0\n",
      "    geospatial_vertical_positive: down\n",
      "    geospatial_vertical_resolution: point\n",
      "    geospatial_vertical_units: m\n",
      "    history: 2021-07-09 08:53:58Z: Creation\n",
      "    institution: CLS, CNES\n",
      "    keywords: Oceans > Ocean Topography > Sea Surface Height\n",
      "    keywords_vocabulary: NetCDF COARDS Climate and Forecast Standard Names\n",
      "    license: http://climate.copernicus.eu/c3s-user-service-desk\n",
      "    platform: ERS-1, Topex/Poseidon,\n",
      "    processing_level: L4\n",
      "    product_version: vDec2021\n",
      "    project: Copernicus Climate Change Service (C3S)\n",
      "    references: http://climate.copernicus.eu\n",
      "    software_version: 7.0_DUACS_DT2021_baseline\n",
      "    source: Altimetry measurements\n",
      "    ssalto_duacs_comment: The reference mission used for the altimeter inter-calibration processing is Topex/Poseidon between 1993-01-01 and 2002-04-23, Jason-1 between 2002-04-24 and 2008-10-18, OSTM/Jason-2 between 2008-10-19 and 2016-06-25, Jason-3 since 2016-06-25.\n",
      "    standard_name_vocabulary: NetCDF Climate and Forecast (CF) Metadata Convention Standard Name Table v37\n",
      "    summary: SSALTO/DUACS Delayed-Time Level-4 sea surface height and derived variables measured by multi-satellite altimetry observations over Global Ocean.\n",
      "    time_coverage_duration: P1D\n",
      "    time_coverage_end: 1993-01-01T12:00:00Z\n",
      "    time_coverage_resolution: P1D\n",
      "    time_coverage_start: 1992-12-31T12:00:00Z\n",
      "    title: DT merged two satellites Global Ocean Gridded SSALTO/DUACS Sea Surface Height L4 product and derived variables\n",
      "    copernicusmarine_version: 1.0.4\n",
      "    dimensions(sizes): time(11115), latitude(152), longitude(204)\n",
      "    variables(dimensions): int32 adt(time, latitude, longitude), float32 latitude(latitude), float32 longitude(longitude), float32 time(time)\n",
      "    groups: \n"
     ]
    }
   ],
   "source": [
    "print(nc_file)"
   ]
  },
  {
   "cell_type": "code",
   "execution_count": 5,
   "metadata": {},
   "outputs": [
    {
     "name": "stdout",
     "output_type": "stream",
     "text": [
      "dict_keys(['adt', 'latitude', 'longitude', 'time'])\n"
     ]
    }
   ],
   "source": [
    "print(nc_file.variables.keys()) # get all variable names"
   ]
  },
  {
   "cell_type": "code",
   "execution_count": 10,
   "metadata": {},
   "outputs": [
    {
     "name": "stdout",
     "output_type": "stream",
     "text": [
      "('time', <class 'netCDF4._netCDF4.Dimension'>: name = 'time', size = 11115)\n",
      "('latitude', <class 'netCDF4._netCDF4.Dimension'>: name = 'latitude', size = 152)\n",
      "('longitude', <class 'netCDF4._netCDF4.Dimension'>: name = 'longitude', size = 204)\n"
     ]
    }
   ],
   "source": [
    "for d in nc_file.dimensions.items():\n",
    "    print(d)"
   ]
  },
  {
   "cell_type": "code",
   "execution_count": 16,
   "metadata": {},
   "outputs": [
    {
     "name": "stderr",
     "output_type": "stream",
     "text": [
      "/var/folders/3m/g7qw5r_50tj5yh0jj5dphfj00000gp/T/ipykernel_84959/2488558443.py:1: UserWarning: WARNING: valid_min not used since it\n",
      "cannot be safely cast to variable data type\n",
      "  time, longitude, latitude = nc_file.variables['time'][:], nc_file.variables['longitude'][:], nc_file.variables['latitude'][:]\n",
      "/var/folders/3m/g7qw5r_50tj5yh0jj5dphfj00000gp/T/ipykernel_84959/2488558443.py:1: UserWarning: WARNING: valid_max not used since it\n",
      "cannot be safely cast to variable data type\n",
      "  time, longitude, latitude = nc_file.variables['time'][:], nc_file.variables['longitude'][:], nc_file.variables['latitude'][:]\n"
     ]
    }
   ],
   "source": [
    "time, longitude, latitude = nc_file.variables['time'][:], nc_file.variables['longitude'][:], nc_file.variables['latitude'][:]"
   ]
  },
  {
   "cell_type": "code",
   "execution_count": 21,
   "metadata": {},
   "outputs": [],
   "source": [
    "adt = nc_file.variables['adt'][:]"
   ]
  },
  {
   "cell_type": "code",
   "execution_count": 25,
   "metadata": {},
   "outputs": [
    {
     "data": {
      "text/plain": [
       "0.78"
      ]
     },
     "execution_count": 25,
     "metadata": {},
     "output_type": "execute_result"
    }
   ],
   "source": [
    "adt[0,0,0]"
   ]
  },
  {
   "cell_type": "code",
   "execution_count": 26,
   "metadata": {},
   "outputs": [],
   "source": [
    "adt_flat = adt.reshape((-1,))"
   ]
  },
  {
   "cell_type": "code",
   "execution_count": 30,
   "metadata": {},
   "outputs": [
    {
     "data": {
      "text/plain": [
       "(152,)"
      ]
     },
     "execution_count": 30,
     "metadata": {},
     "output_type": "execute_result"
    }
   ],
   "source": [
    "latitude.shape"
   ]
  },
  {
   "cell_type": "code",
   "execution_count": 39,
   "metadata": {},
   "outputs": [],
   "source": [
    "ntime, nlat, nlon = len(time), len(latitude), len(longitude)\n",
    "\n",
    "time_list, lat_list, lon_list, adt_list = [], [], [], []\n",
    "for x in range(ntime):\n",
    "    for y in range(nlat):\n",
    "        for z in range(nlon):\n",
    "            time_list.append(time[x])\n",
    "            lat_list.append(latitude[y])\n",
    "            lon_list.append(longitude[z])\n",
    "            adt_list.append(adt[x,y,z])\n",
    "\n",
    "df = pd.DataFrame({'Time': time_list, 'Latitude': lat_list, 'Longitude': lon_list, 'Adt': adt_list})"
   ]
  },
  {
   "cell_type": "code",
   "execution_count": 40,
   "metadata": {},
   "outputs": [
    {
     "data": {
      "text/html": [
       "<div>\n",
       "<style scoped>\n",
       "    .dataframe tbody tr th:only-of-type {\n",
       "        vertical-align: middle;\n",
       "    }\n",
       "\n",
       "    .dataframe tbody tr th {\n",
       "        vertical-align: top;\n",
       "    }\n",
       "\n",
       "    .dataframe thead th {\n",
       "        text-align: right;\n",
       "    }\n",
       "</style>\n",
       "<table border=\"1\" class=\"dataframe\">\n",
       "  <thead>\n",
       "    <tr style=\"text-align: right;\">\n",
       "      <th></th>\n",
       "      <th>Time</th>\n",
       "      <th>Latitude</th>\n",
       "      <th>Longitude</th>\n",
       "      <th>Adt</th>\n",
       "    </tr>\n",
       "  </thead>\n",
       "  <tbody>\n",
       "    <tr>\n",
       "      <th>0</th>\n",
       "      <td>15706.0</td>\n",
       "      <td>14.125</td>\n",
       "      <td>-100.875</td>\n",
       "      <td>0.78</td>\n",
       "    </tr>\n",
       "    <tr>\n",
       "      <th>1</th>\n",
       "      <td>15706.0</td>\n",
       "      <td>14.125</td>\n",
       "      <td>-100.625</td>\n",
       "      <td>0.8006</td>\n",
       "    </tr>\n",
       "    <tr>\n",
       "      <th>2</th>\n",
       "      <td>15706.0</td>\n",
       "      <td>14.125</td>\n",
       "      <td>-100.375</td>\n",
       "      <td>0.8169</td>\n",
       "    </tr>\n",
       "    <tr>\n",
       "      <th>3</th>\n",
       "      <td>15706.0</td>\n",
       "      <td>14.125</td>\n",
       "      <td>-100.125</td>\n",
       "      <td>0.8166</td>\n",
       "    </tr>\n",
       "    <tr>\n",
       "      <th>4</th>\n",
       "      <td>15706.0</td>\n",
       "      <td>14.125</td>\n",
       "      <td>-99.875</td>\n",
       "      <td>0.8135</td>\n",
       "    </tr>\n",
       "  </tbody>\n",
       "</table>\n",
       "</div>"
      ],
      "text/plain": [
       "      Time  Latitude  Longitude     Adt\n",
       "0  15706.0    14.125   -100.875    0.78\n",
       "1  15706.0    14.125   -100.625  0.8006\n",
       "2  15706.0    14.125   -100.375  0.8169\n",
       "3  15706.0    14.125   -100.125  0.8166\n",
       "4  15706.0    14.125    -99.875  0.8135"
      ]
     },
     "execution_count": 40,
     "metadata": {},
     "output_type": "execute_result"
    }
   ],
   "source": [
    "df.head()"
   ]
  },
  {
   "cell_type": "code",
   "execution_count": 42,
   "metadata": {},
   "outputs": [],
   "source": [
    "df.to_csv('./data_copernicus_adt_1993_2023.csv')"
   ]
  },
  {
   "cell_type": "code",
   "execution_count": null,
   "metadata": {},
   "outputs": [],
   "source": [
    "\n",
    "time = nc_file.variables['time'][:]\n",
    "longitude = nc_file.variables['longitude'][:]\n",
    "latitude = nc_file.variables['latitude'][:]\n",
    "adt = nc_file.variables['adt'][:].flatten()\n",
    "\n",
    "data = {'time': time, 'longitude': longitude, 'latitude': latitude, 'adt': adt}\n",
    "df = pd.DataFrame(data)\n",
    "\n",
    "# Close the NetCDF file\n",
    "nc_file.close()"
   ]
  },
  {
   "cell_type": "code",
   "execution_count": 45,
   "metadata": {},
   "outputs": [
    {
     "data": {
      "text/html": [
       "<div>\n",
       "<style scoped>\n",
       "    .dataframe tbody tr th:only-of-type {\n",
       "        vertical-align: middle;\n",
       "    }\n",
       "\n",
       "    .dataframe tbody tr th {\n",
       "        vertical-align: top;\n",
       "    }\n",
       "\n",
       "    .dataframe thead th {\n",
       "        text-align: right;\n",
       "    }\n",
       "</style>\n",
       "<table border=\"1\" class=\"dataframe\">\n",
       "  <thead>\n",
       "    <tr style=\"text-align: right;\">\n",
       "      <th></th>\n",
       "      <th>Time</th>\n",
       "      <th>Latitude</th>\n",
       "      <th>Longitude</th>\n",
       "      <th>Adt</th>\n",
       "    </tr>\n",
       "  </thead>\n",
       "  <tbody>\n",
       "    <tr>\n",
       "      <th>121290801</th>\n",
       "      <td>19617.0</td>\n",
       "      <td>36.625</td>\n",
       "      <td>-62.625</td>\n",
       "      <td>1.6953</td>\n",
       "    </tr>\n",
       "  </tbody>\n",
       "</table>\n",
       "</div>"
      ],
      "text/plain": [
       "              Time  Latitude  Longitude     Adt\n",
       "121290801  19617.0    36.625    -62.625  1.6953"
      ]
     },
     "execution_count": 45,
     "metadata": {},
     "output_type": "execute_result"
    }
   ],
   "source": [
    "df[df['Adt']==max(df['Adt'])]"
   ]
  },
  {
   "cell_type": "code",
   "execution_count": 46,
   "metadata": {},
   "outputs": [],
   "source": [
    "import matplotlib\n",
    "import matplotlib.pyplot as plt\n",
    "from datetime import datetime\n",
    "\n",
    "df_plot = df[df['Longitude']==-62.625 & df['Latitude']==36.625]\n",
    "plt.plot(df_plot['Time'], df_plot['Atd'])"
   ]
  },
  {
   "cell_type": "code",
   "execution_count": null,
   "metadata": {},
   "outputs": [],
   "source": [
    "from mpl_toolkits.basemap import Basemap\n",
    "\n",
    "L_df = sl_glo_phy_xr_df[['latitude','longitude']]\n",
    "L_df.columns = ['Longitude', 'Latitude']\n",
    "plt.figure(figsize=(12, 9))\n",
    "\n",
    "m = Basemap(projection='merc', llcrnrlat=24, urcrnrlat=38, llcrnrlon=-95, urcrnrlon=-75, resolution='i')\n",
    "\n",
    "m.drawcoastlines()\n",
    "m.drawcountries()\n",
    "m.drawstates()\n",
    "\n",
    "x, y = m(L_df['Longitude'].values, L_df['Latitude'].values)\n",
    "\n",
    "m.scatter(x, y, s=50, c='red', marker='o', label='Stations', zorder=5)\n",
    "\n",
    "plt.title('Location of Stations on U.S. Southeast and Gulf Coast')\n",
    "plt.legend(loc='lower left')\n",
    "plt.show()"
   ]
  }
 ],
 "metadata": {
  "kernelspec": {
   "display_name": "Python 3",
   "language": "python",
   "name": "python3"
  },
  "language_info": {
   "codemirror_mode": {
    "name": "ipython",
    "version": 3
   },
   "file_extension": ".py",
   "mimetype": "text/x-python",
   "name": "python",
   "nbconvert_exporter": "python",
   "pygments_lexer": "ipython3",
   "version": "3.10.2"
  }
 },
 "nbformat": 4,
 "nbformat_minor": 2
}
